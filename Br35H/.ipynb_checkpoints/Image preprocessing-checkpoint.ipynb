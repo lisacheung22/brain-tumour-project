{
 "cells": [
  {
   "cell_type": "code",
   "execution_count": 4,
   "id": "5f44287a",
   "metadata": {
    "scrolled": true
   },
   "outputs": [],
   "source": [
    "# Set up the environment\n",
    "import os\n",
    "import subprocess\n",
    "subprocess.call(['pip', 'install', 'opencv-python'])\n",
    "import cv2\n",
    "import numpy as np\n",
    "from PIL import Image\n",
    "\n",
    "# Direct the input and output directories\n",
    "input_dir = ' ' # Input the folder location here\n",
    "output_dir = ' ' # Input the output folder location here\n",
    "\n",
    "# Define the output image size\n",
    "image_size = (256, 256)\n",
    "\n",
    "# Load the image data\n",
    "images = []  # Create an empty list to hold the images\n",
    "for filename in os.listdir(input_dir):  # Iterate over the files in the input directory\n",
    "    if filename.endswith('.jpg'):  # If the file has a .jpg extension\n",
    "        image_file = os.path.join(input_dir, filename)  # Get the full path to the image file\n",
    "        image = cv2.imread(image_file, cv2.IMREAD_GRAYSCALE)  # Load the image in grayscale\n",
    "        resized_image = cv2.resize(image, image_size)  # Resize the image to the desired size\n",
    "        normalized_image = cv2.normalize(resized_image, None, 0, 255, cv2.NORM_MINMAX)  # Normalize the intensity values of the image\n",
    "        output_file = os.path.join(output_dir, filename)  # Get the full path to the output file\n",
    "        cv2.imwrite(output_file, normalized_image)  # Write the processed image to the output file"
   ]
  },
  {
   "cell_type": "code",
   "execution_count": null,
   "id": "b328da6a",
   "metadata": {},
   "outputs": [],
   "source": []
  }
 ],
 "metadata": {
  "kernelspec": {
   "display_name": "Python 3 (ipykernel)",
   "language": "python",
   "name": "python3"
  },
  "language_info": {
   "codemirror_mode": {
    "name": "ipython",
    "version": 3
   },
   "file_extension": ".py",
   "mimetype": "text/x-python",
   "name": "python",
   "nbconvert_exporter": "python",
   "pygments_lexer": "ipython3",
   "version": "3.9.13"
  }
 },
 "nbformat": 4,
 "nbformat_minor": 5
}
